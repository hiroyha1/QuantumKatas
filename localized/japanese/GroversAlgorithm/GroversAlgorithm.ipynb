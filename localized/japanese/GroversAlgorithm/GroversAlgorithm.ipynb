{
 "cells": [
  {
   "cell_type": "markdown",
   "metadata": {},
   "source": [
    "# グローバーのアルゴリズム\n",
    "\n",
    "**グローバーの検索** quantum kata はグローバーの検索アルゴリズムに慣れることを目的とした一連の演習問題です。\n",
    "\n",
    "これは次のトピックをカバーします:\n",
    "\n",
    "* グローバーの検索に対するオラクルを書く、\n",
    "* アルゴリズムの各ステップを実行し、\n",
    "* これらをすべて一つにまとめる: グローバーの検索アルゴリズム\n",
    "\n",
    "*参考資料:*\n",
    "\n",
    "* 本タスクは *Quantum Computation and Quantum Information* by Nielsen and Chuang \n",
    "  In the 10th anniversary edition, this is section 6.1.2 on pages 248-251 の説明に従っています。\n",
    "* グローバーのアルゴリズムの別の解説については[この Wikipedia の記事](https://en.wikipedia.org/wiki/Grover%27s_algorithm)に記載されています。\n",
    "* [An Introduction to Quantum Algorithms](https://people.cs.umass.edu/~strubell/doc/quantum_tutorial.pdf) by Emma Strubell, pages 20-24.\n",
    "* [Lecture 4: Grover's Algorithm](https://www.cs.cmu.edu/~odonnell/quantum15/lecture04.pdf) by John Wright.\n",
    "* Lectures [12](https://cs.uwaterloo.ca/~watrous/LectureNotes/CPSC519.Winter2006/12.pdf) and [13](https://cs.uwaterloo.ca/~watrous/LectureNotes/CPSC519.Winter2006/13.pdf) by John Watrous.\n",
    "* [このページ](http://davidbkemp.github.io/animated-qubits/grover.html)には単純なケースでのグローバーのアルゴリズムのアニメーションによるデモンストレーションがあります。\n",
    "\n",
    "各タスクは一つのオペレーションとその前のタスクの解説で構成されています。\n",
    "ゴールはタスクの答えとなる Q# コードで空欄 (コメント // ... で印をつけています) を埋めることです。回答をチェックする際には Ctrl+Enter (macOS の場合は ⌘+Enter) を使用してセルを実行してください。\n",
    "\n",
    "タスクの順番はおおよそ徐々に難易度が上がるようになっています;難しい問題についてはアスタリスクをつけています。"
   ]
  },
  {
   "cell_type": "markdown",
   "metadata": {},
   "source": [
    "## パート I. グローバーの検索に対するオラクル\n"
   ]
  },
  {
   "cell_type": "markdown",
   "metadata": {},
   "source": [
    "### タスク 1.1. オラクル $|11...1\\rangle$\n",
    "**入力:** \n",
    "\n",
    "  1. 任意の状態 $|x\\rangle$ の N 量子ビット (入力/クエリ レジスタ)\n",
    "\n",
    "  2. 任意の状態 $|y\\rangle$ の 1 量子ビット (ターゲット量子ビット)\n",
    "\n",
    "**ゴール:**\n",
    "\n",
    "クエリ レジスタの状態が $|11...1\\rangle$ であればターゲット量子ビットの状態を反転させ (つまり X ゲートを適用する)、クエリ レジスタがその他の状態の場合は変更せずにそのままにしてください。\n",
    "クエリ レジスタは開始時と同じ状態を保つようにしてください。\n",
    "\n",
    "**例:**\n",
    "\n",
    "* クエリ レジスタの状態が $|00...0\\rangle$ の場合はターゲット量子ビットは変更しません。\n",
    "\n",
    "* クエリ レジスタの状態が $|10...0\\rangle$ の場合はターゲット量子ビットは変更しません。\n",
    "\n",
    "* クエリ レジスタの状態が $|11...1\\rangle$ の場合はターゲット量子ビットを反転させます。\n",
    "\n",
    "* クエリ レジスタの状態が $\\frac{1}{\\sqrt{2}} \\big(|00...0\\rangle + |11...1\\rangle \\big)$ でターゲットの状態が $|0\\rangle$ の場合、クエリ レジスタとターゲット量子ビットを合わせた状態は $\\frac{1}{\\sqrt{2}} \\big(|00...00\\rangle + |11...11\\rangle \\big)$ となります。"
   ]
  },
  {
   "cell_type": "code",
   "execution_count": null,
   "metadata": {},
   "outputs": [],
   "source": [
    "%kata T11_Oracle_AllOnes \n",
    "\n",
    "operation Oracle_AllOnes (queryRegister : Qubit[], target : Qubit) : Unit is Adj {\n",
    "    // ...\n",
    "}"
   ]
  },
  {
   "cell_type": "markdown",
   "metadata": {},
   "source": [
    "### タスク 1.2. オラクル $|1010...\\rangle$\n",
    "\n",
    "**入力:**\n",
    "\n",
    "  1. 任意の状態 $|x\\rangle$ の N 量子ビット (入力/クエリ レジスタ)\n",
    "\n",
    "  2. 任意の状態 $|y\\rangle$ の 1 量子ビット (ターゲット量子ビット)\n",
    "\n",
    "**ゴール:**\n",
    "\n",
    "  クエリ レジスタの状態が $|1010...\\rangle$ の場合、つまりレジスタの量子ビットの数が任意で値が 1 と 0 の交互になっている状態の場合にターゲット量子ビットを反転させてください。\n",
    "クエリ レジスタがそれ以外の状態の場合にはターゲット量子ビットは変更せずにそのままにしてください。\n",
    "クエリ レジスタは開始時と同じ状態を保つようにしてください。\n",
    "\n",
    "**例:**\n",
    "\n",
    " * レジスタの状態が $|0000000\\rangle$ の場合はターゲット量子ビットは変更しません。\n",
    " * レジスタの状態が $|10101\\rangle$ の場合はターゲット量子ビットを反転させます。"
   ]
  },
  {
   "cell_type": "code",
   "execution_count": null,
   "metadata": {},
   "outputs": [],
   "source": [
    "%kata T12_Oracle_AlternatingBits \n",
    "\n",
    "operation Oracle_AlternatingBits (queryRegister : Qubit[], target : Qubit) : Unit is Adj {\n",
    "    // ...\n",
    "}"
   ]
  },
  {
   "cell_type": "markdown",
   "metadata": {},
   "source": [
    "### タスク 1.3. 任意のビット パターンのオラクル\n",
    "\n",
    "**入力:**\n",
    "\n",
    "  1. 任意の状態 $|x\\rangle$ の N 量子ビット (入力/クエリ レジスタ)\n",
    "\n",
    "  2. 任意の状態 $|y\\rangle$ の 1 量子ビット (ターゲット量子ビット)\n",
    "  \n",
    "  3. `Bool[]` で表される長さ N のビット パターン\n",
    "\n",
    "**ゴール:**\n",
    "\n",
    "  クエリ レジスタが与えられたビット パターンの状態の場合にターゲット量子ビットを反転させてください (`true` は量子ビットが One、`false` は Zero を表します)。\n",
    "クエリ レジスタがそれ以外の状態の場合にはターゲット量子ビットは変更せずにそのままにしてください。\n",
    "クエリ レジスタは開始時と同じ状態を保つようにしてください。\n",
    "\n",
    "**例:**\n",
    "\n",
    "  ビット パターンが `[true, false]` の場合は量子ビットの状態が $|10\\rangle$ の時だけターゲット量子ビットを反転させます。"
   ]
  },
  {
   "cell_type": "code",
   "execution_count": null,
   "metadata": {},
   "outputs": [],
   "source": [
    "%kata T13_Oracle_ArbitraryPattern \n",
    "\n",
    "operation Oracle_ArbitraryPattern (queryRegister : Qubit[], target : Qubit, pattern : Bool[]) : Unit is Adj {\n",
    "    // ...\n",
    "}"
   ]
  },
  {
   "cell_type": "markdown",
   "metadata": {},
   "source": [
    "### タスク 1.4. オラクル コンバーター\n",
    "\n",
    "**入力:**\n",
    "\n",
    "マーキング オラクル: 1 つのレジスタと 1 つのターゲット量子ビットを引数として取り、レジスタが条件を満たしたときにターゲット量子ビットを反転させるオラクル。\n",
    "\n",
    "**出力:**\n",
    "\n",
    "位相反転オラクル: 1 つのレジスタを引数として取り、条件を満たしたときにレジスタの位相を反転させるオラクル。\n",
    "\n",
    "> グローバーのアルゴリズムは位相反転オラクルとして実装された検索条件に依存していますが、与えられた条件をマーキング オラクルとして書いたほうが簡単なことがよくあります。\n",
    "この変換によってある種類のオラクルを別の種類に変更することができます。この変換は[Wikipedia のグローバーのアルゴリズムに関する記事](https://en.wikipedia.org/wiki/Grover%27s_algorithm)のセクション \"Description of ${U_\\omega}$\" に記載されています。\n",
    "\n",
    "<br/>\n",
    "<details>\n",
    "  <summary><b>ヒントが必要な場合はここをクリック</b></summary>\n",
    "    補助的なオペレーションが定義できることを覚えておいてください。そのためには新しい各オペレーション毎に追加のコード セルを作成し、このセルに戻る前に実行する必要があります。\n",
    "</details>"
   ]
  },
  {
   "cell_type": "code",
   "execution_count": null,
   "metadata": {},
   "outputs": [],
   "source": [
    "%kata T14_OracleConverter \n",
    "\n",
    "function OracleConverter (markingOracle : ((Qubit[], Qubit) => Unit is Adj)) : (Qubit[] => Unit is Adj) {\n",
    "    // ...\n",
    "}"
   ]
  },
  {
   "cell_type": "markdown",
   "metadata": {},
   "source": [
    "## パート II. グローバー イテレーション"
   ]
  },
  {
   "cell_type": "markdown",
   "metadata": {},
   "source": [
    "### タスク 2.1. アダマール変換\n",
    "\n",
    "**入力:** 任意の状態の N 量子ビットのレジスタ\n",
    "\n",
    "**ゴール:** レジスタの各量子ビットにアダマール変換を適用してください。\n",
    "\n",
    "> レジスタの初めの状態が $|0...0\\rangle$ の場合は、この操作は全ての $2^{N}$ 個の基底の状態の重ね合わせを用意します。"
   ]
  },
  {
   "cell_type": "code",
   "execution_count": null,
   "metadata": {},
   "outputs": [],
   "source": [
    "%kata T21_HadamardTransform \n",
    "\n",
    "operation HadamardTransform (register : Qubit[]) : Unit is Adj {\n",
    "    // ...\n",
    "}"
   ]
  },
  {
   "cell_type": "markdown",
   "metadata": {},
   "source": [
    "### タスク 2.2. 条件付き位相反転\n",
    "\n",
    "**入力:**  任意の状態の N 量子ビットのレジスタ\n",
    "\n",
    "**ゴール:**  レジスタの状態が $|0...0\\rangle$ でなければレジスタの状態の符号を反転させてください。\n",
    "\n",
    "**例:**\n",
    "\n",
    " * レジスタの状態が $|0...0\\rangle$ の場合は変更しません。\n",
    "\n",
    " * レジスタの状態がそれ以外の場合は、位相に -1 を掛けます。\n",
    "\n",
    "> このオペレーションはオペレーター $2|0...0\\rangle\\langle0...0| - I$ $ = \\left(\\begin{matrix}1&0&...&0\\\\0&-1&...&0\\\\\\vdots&\\vdots&\\ddots&\\vdots\\\\0&0&...&-1\\end{matrix}\\right) $ を実装します。\n",
    "\n",
    "<br/>\n",
    "<details>\n",
    "  <summary><b>ヒントが必要な場合はここをクリック</b></summary>\n",
    "    量子状態はグローバル位相の違いを除いて決まることに注意してください。\n",
    "    したがって、このオペレーションの結果として得られる状態は、基底 $|0...0\\rangle$ の状態だけを符号反転させた状態と等しくなります (これらの状態はグローバル位相 -1 の分だけ異なります)。\n",
    "    <br>\n",
    "    $$-\\big(2|0...0\\rangle\\langle0...0| - I\\big) = I - 2|0...0\\rangle\\langle0...0| = \\left(\\begin{matrix}-1&0&...&0\\\\0&1&...&0\\\\\\vdots&\\vdots&\\ddots&\\vdots\\\\0&0&...&1\\end{matrix}\\right) $$<br>\n",
    "</details>\n",
    "<br/>\n",
    "\n",
    "<details>\n",
    "  <summary><b>さらにヒントが必要な場合はここをクリック</b></summary>\n",
    "    末尾以外の量子ビットを制御量子ビットとし、最後の量子ビットをターゲットとする制御 Z ゲートを考えてみてください:\n",
    "    $\\text{Controlled Z}(|s_0 s_1 \\ldots s_{n-2}\\rangle, |s_{n-1}\\rangle)$ は $|1...11\\rangle$ 以外のすべての基底状態を変更せずにそのままにし、状態 $|1...11\\rangle$ に位相 -1 を付加します: $|1...11\\rangle \\rightarrow -|1...11\\rangle$ ($Z|0\\rangle = |0\\rangle$ かつ $Z|1\\rangle = -|1\\rangle$ であることを思い出してください)。これを状態が $|0...00\\rangle$ の時だけ位相 $-1$ を加えるように修正する必要があります。\n",
    "    <br/><br/>\n",
    "    別な方法として、オラクル コンバーターのタスクと同じ方法を使うこともできます。\n",
    "<br>\n",
    "</details>"
   ]
  },
  {
   "cell_type": "code",
   "execution_count": null,
   "metadata": {},
   "outputs": [],
   "source": [
    "%kata T22_ConditionalPhaseFlip \n",
    "\n",
    "operation ConditionalPhaseFlip (register : Qubit[]) : Unit is Adj {\n",
    "    // ...\n",
    "}"
   ]
  },
  {
   "cell_type": "markdown",
   "metadata": {},
   "source": [
    "### タスク 2.3. グローバー イテレーション\n",
    "\n",
    "**入力:**\n",
    "\n",
    "  1. 任意の状態 $|x\\rangle$ の N 量子ビット (入力/クエリ レジスタ)\n",
    "\n",
    "  2. N 量子ビット レジスタを引数として取り、レジスタが期待する状態となっている時に位相を反転させる位相反転オラクル\n",
    "\n",
    "**ゴール:**  グローバー イテレーションを実行してください。\n",
    "\n",
    "<br/>\n",
    "<details>\n",
    "  <summary><b>ヒントが必要な場合はここをクリック</b></summary>\n",
    "    グローバー イテレーションは次の 4 ステップから成ります:\n",
    "    <ol>\n",
    "    <li>オラクルを適用する</li>\n",
    "    <li>アダマール変換を適用する</li>\n",
    "    <li>条件付き位相反転を実行する</li>\n",
    "    <li>再びアダマール変換を適用する</li>\n",
    "    </ol>\n",
    "</details>"
   ]
  },
  {
   "cell_type": "code",
   "execution_count": null,
   "metadata": {},
   "outputs": [],
   "source": [
    "%kata T23_GroverIteration \n",
    "\n",
    "operation GroverIteration (register : Qubit[], oracle : (Qubit[] => Unit is Adj)) : Unit is Adj {\n",
    "    // ...\n",
    "}"
   ]
  },
  {
   "cell_type": "markdown",
   "metadata": {},
   "source": [
    "## パート III. すべてをまとめる: グローバーの検索アルゴリズム"
   ]
  },
  {
   "cell_type": "markdown",
   "metadata": {},
   "source": [
    "### タスク 3.1. グローバーの検索\n",
    "\n",
    "**入力:**\n",
    "\n",
    "  1. $|0...0\\rangle$ 状態の N 量子ビット\n",
    "\n",
    "  2. マーキング オラクル\n",
    "\n",
    "  3. 実行するグローバー イテレーションの回数\n",
    "\n",
    "**ゴール:** グローバーのアルゴリズムを使って、レジスタを (高い確率で) オラクルによって答えであるとマークされる状態にしてください。\n",
    "\n",
    "> イテレーションの数は問題の性質によって決まるためパラメーターとして渡され、検索アルゴリズムの外 (例えばクラシック ドライバーの中) で設定・計算しやすいようにしています。"
   ]
  },
  {
   "cell_type": "code",
   "execution_count": null,
   "metadata": {},
   "outputs": [],
   "source": [
    "%kata T31_GroversSearch \n",
    "\n",
    "operation GroversSearch (register : Qubit[], oracle : ((Qubit[], Qubit) => Unit is Adj), iterations : Int) : Unit {\n",
    "    // ...\n",
    "}"
   ]
  },
  {
   "cell_type": "markdown",
   "metadata": {},
   "source": [
    "### タスク 3.2. グローバーの検索を使用する\n",
    "\n",
    "**ゴール:**   実装したタスク 3.1 のグローバーのアルゴリズムとパート 1 のオラクルを使用して、検索空間の中からマークされた要素をみつけてください。\n",
    "このタスクはテストの対象外であり、アルゴリズムを実行することで自分で実験することができます。\n",
    "  \n",
    "> これは自由形式のタスクで、単体テストではカバーされていません。コードを実行する際にはまずオペレーション `Run_GroversSearch_Algorithm` が定義されたセルを実行します。\n",
    "何もエラーなしにコンパイルが成功すれば、次のセル (`%simulate Run_GroversSearch_Algorithm`) を実行することによってオペレーションを走らせることができます。\n",
    "\n",
    "> このタスクは前のタスクの実装に依存しています。もし \"No variable with that name exists.\" というエラーが出た場合は、このタスクを再実行する前に前のコード セルを実行する必要があるはずです。\n",
    "\n",
    "<details closed>\n",
    "  <summary><b>ヒント #1</b></summary>\n",
    "    アルゴリズムが正しい答えを見つけたかどうか (つまり回答がオラクルによって 1 とマークされるかどうか) 確認するためには、観測したレジスタと補助 (ancilla) 量子ビットに対して、アルゴリズムで見つかった答えの関数を計算するオラクルをもう一度適用することができます。\n",
    "    \n",
    "</details>\n",
    "<br/>\n",
    "<details closed>\n",
    "  <summary><b>ヒント #2</b></summary>\n",
    "    アルゴリズムが正しい答えを見つける確率に、イテレーション数がどのように影響を与えるか実験してみてください。\n",
    "</details>\n",
    "<br/>\n",
    "<details closed>\n",
    "  <summary><b>ヒント #3</b></summary>\n",
    "    結果を出力する際には Message 関数を使うことができます。\n",
    "</details>"
   ]
  },
  {
   "cell_type": "code",
   "execution_count": null,
   "metadata": {},
   "outputs": [],
   "source": [
    "operation Run_GroversSearch_Algorithm () : Unit {\n",
    "    // ...\n",
    "}"
   ]
  },
  {
   "cell_type": "code",
   "execution_count": null,
   "metadata": {},
   "outputs": [],
   "source": [
    "%simulate Run_GroversSearch_Algorithm"
   ]
  }
 ],
 "metadata": {
  "kernelspec": {
   "display_name": "Q#",
   "language": "qsharp",
   "name": "iqsharp"
  },
  "language_info": {
   "file_extension": ".qs",
   "mimetype": "text/x-qsharp",
   "name": "qsharp",
   "version": "0.12"
  }
 },
 "nbformat": 4,
 "nbformat_minor": 2
}
