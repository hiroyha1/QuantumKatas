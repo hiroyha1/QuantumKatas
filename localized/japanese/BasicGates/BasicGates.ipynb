{
 "cells": [
  {
   "cell_type": "markdown",
   "metadata": {},
   "source": [
    "# Basic Gates Kata\n",
    "\n",
    "**基本ゲート** quantum kata は Q# の基本的な量子ゲートに慣れることを目的とした一連の演習問題です。\n",
    "これは次のトピックを網羅しています:\n",
    "* 基本的な 1 量子ビットおよび複数量子ビット ゲート、\n",
    "* 随伴および制御ゲート、\n",
    "* 量子ビットの状態を変更するためにゲートを使用。\n",
    "\n",
    "ゴールはタスクの答えとなる Q# コードで空欄 (コメント `// ...` で印をつけています) を埋めることです。回答をチェックする際には Ctrl+Enter (macOS の場合は ⌘+Enter) を使用してセルを実行してください。\n",
    "\n",
    "この kata のほとんどのタスクは 1 つのゲートだけを使用して完成させることができます。\n",
    "どのタスクも観測 (measurement) は必要なく、テストは量子ビットを観測すると失敗するように書かれています。\n",
    "\n",
    "タスクの順番はおおよそ徐々に難易度が上がるようになっています;難しい問題についてはアスタリスクをつけています。"
   ]
  },
  {
   "cell_type": "markdown",
   "metadata": {},
   "source": [
    "すべてのタスクはグローバル位相を導入せずに正確な変換を実装する必要があります。量子状態のグローバル位相についての詳細は[ここ](../tutorials/Qubit/Qubit.ipynb#Relative-and-Global-Phase)を参照してください。"
   ]
  },
  {
   "cell_type": "markdown",
   "metadata": {},
   "source": [
    "## パート I. 1 量子ビット ゲート\n",
    "\n",
    "\n",
    "### 理論\n",
    "\n",
    "* 最も一般的なゲートの一覧については[この Wikipedia の記事](https://en.wikipedia.org/wiki/Quantum_logic_gate)で確認することができます。\n",
    "* 量子ビット状態に対するゲートの効果を視覚化する際に便利なツールとして [Quirk](http://algassert.com/quirk) があります。\n",
    "\n",
    "### Q# マテリアル\n",
    "\n",
    "* Q# で提供される基本ゲートは `Microsoft.Quantum.Intrinsic` 名前空間に属しており、 [ここ](https://docs.microsoft.com/qsharp/api/qsharp/microsoft.quantum.intrinsic)に一覧があります。\n",
    "\n",
    "> このセクション内のすべてのオペレーションはシグネチャに `is Adj+Ctl` が付いていることに注意してください。\n",
    "これは Q# が自動的に随伴版と制御版が計算できるように実装されている必要があることを意味します。各タスクは固有ゲートのみを使用して解くことができるので、この点については特に何も気にする必要はありません。"
   ]
  },
  {
   "cell_type": "markdown",
   "metadata": {},
   "source": [
    "### タスク 1.1. 状態の反転: $|0\\rangle$ から $|1\\rangle$,  $|1\\rangle$ から $|0\\rangle$\n",
    "\n",
    "**入力:** 状態が $|\\psi\\rangle = \\alpha |0\\rangle + \\beta |1\\rangle$ の量子ビット。\n",
    "\n",
    "**ゴール:**  量子ビットの状態を $\\alpha |1\\rangle + \\beta |0\\rangle$ に変更してください。\n",
    "\n",
    "**例:**\n",
    "\n",
    "量子ビットの状態が $|0\\rangle$ の場合、状態を $|1\\rangle$ に変更します。\n",
    "\n",
    "量子ビットの状態が $|1\\rangle$ の場合、状態を $|0\\rangle$ に変更します。\n",
    "\n",
    "> この操作は自己随伴であることに注意: この操作を 2 回適用すると\n",
    "> 元の状態の量子ビットを返します。"
   ]
  },
  {
   "cell_type": "code",
   "execution_count": null,
   "metadata": {},
   "outputs": [],
   "source": [
    "%kata T101_StateFlip \n",
    "\n",
    "operation StateFlip (q : Qubit) : Unit is Adj+Ctl {\n",
    "    // The Pauli X gate will change the |0⟩ state to the |1⟩ state and vice versa.\n",
    "    // Type X(q);\n",
    "    // Then run the cell using Ctrl+Enter (⌘+Enter on macOS).\n",
    "\n",
    "    // ...\n",
    "}"
   ]
  },
  {
   "cell_type": "markdown",
   "metadata": {},
   "source": [
    "### タスク 1.2. 基底の変更: $|0\\rangle$ から $|+\\rangle$, $|1\\rangle$ から $|-\\rangle$\n",
    "\n",
    "**入力**: 状態が $|\\psi\\rangle = \\alpha |0\\rangle + \\beta |1\\rangle$　の量子ビット.\n",
    "\n",
    "**ゴール**:  量子ビットの状態を次のように変更してください:\n",
    "* 量子ビットの状態が $|0\\rangle$ の場合、状態を $|+\\rangle = \\frac{1}{\\sqrt{2}} \\big(|0\\rangle + |1\\rangle\\big)$ に変更します。\n",
    "* 量子ビットの状態が $|1\\rangle$ の場合、状態を $|-\\rangle = \\frac{1}{\\sqrt{2}} \\big(|0\\rangle - |1\\rangle\\big)$ に変更します。\n",
    "* 量子ビットが重ね合わせの場合、基底ベクトルに対する変換に従って状態を変更します。\n",
    "\n",
    "> 注意:  \n",
    "> $|+\\rangle$ と $|-\\rangle$ は 1 量子ビットに対して X 基底と呼ばれる異なる基底を形成します。\n",
    "> $|0\\rangle$ と $|1\\rangle$ は Z 基底と呼ばれています。\n"
   ]
  },
  {
   "cell_type": "code",
   "execution_count": null,
   "metadata": {},
   "outputs": [],
   "source": [
    "%kata T102_BasisChange \n",
    "\n",
    "operation BasisChange (q : Qubit) : Unit is Adj+Ctl {\n",
    "    // ...\n",
    "}"
   ]
  },
  {
   "cell_type": "markdown",
   "metadata": {},
   "source": [
    "### タスク 1.3. 符号反転: $|+\\rangle$  から $|-\\rangle$, $|-\\rangle$ から $|+\\rangle$\n",
    "\n",
    "**入力**: 状態が $|\\psi\\rangle = \\alpha |0\\rangle + \\beta |1\\rangle$ の 1 量子ビット.\n",
    "\n",
    "**ゴール** :  量子ビットの状態を $\\alpha |0\\rangle - \\beta |1\\rangle$ に変更してください (重ね合わせの $|1\\rangle$ 成分の符号を反転させます)。\n"
   ]
  },
  {
   "cell_type": "code",
   "execution_count": null,
   "metadata": {},
   "outputs": [],
   "source": [
    "%kata T103_SignFlip \n",
    "\n",
    "operation SignFlip (q : Qubit) : Unit is Adj+Ctl {\n",
    "    // ...\n",
    "}"
   ]
  },
  {
   "cell_type": "markdown",
   "metadata": {},
   "source": [
    "### タスク 1.4. 振幅の変更: $|0\\rangle$ から $\\cos{α} |0\\rangle + \\sin{α} |1\\rangle$\n",
    "\n",
    "**入力:**\n",
    "\n",
    "1. Double 型の弧度法表記の角度 α。\n",
    "2. 状態 $|\\psi\\rangle = \\beta |0\\rangle + \\gamma |1\\rangle$ の量子ビット。\n",
    "\n",
    "**ゴール:**  量子ビットの状態を次のように変更してください:\n",
    "- 量子ビットの状態が $|0\\rangle$ の場合、状態を $\\cos{α} |0\\rangle + \\sin{α} |1\\rangle$ に変更します。\n",
    "- 量子ビットの状態が $|1\\rangle$ の場合、状態を $-\\sin{α} |0\\rangle + \\cos{α} |1\\rangle$ に変更します。\n",
    "- 量子ビットが重ね合わせの場合、基底ベクトルに対する変換に従って状態を変更します。\n",
    "\n",
    "> これは自己随伴ではない kata の最初のオペレーションとなります。つまり 2 回適用しても\n",
    "> 量子ビットは元の状態には戻りません。"
   ]
  },
  {
   "cell_type": "code",
   "execution_count": null,
   "metadata": {},
   "outputs": [],
   "source": [
    "%kata T104_AmplitudeChange\n",
    "\n",
    "operation AmplitudeChange (alpha : Double, q : Qubit) : Unit is Adj+Ctl {\n",
    "    // ...\n",
    "}"
   ]
  },
  {
   "cell_type": "markdown",
   "metadata": {},
   "source": [
    "### タスク 1.5. 位相反転\n",
    "\n",
    "**入力:** 状態が $|\\psi\\rangle = \\alpha |0\\rangle + \\beta |1\\rangle$ の量子ビット。\n",
    "\n",
    "**ゴール:** 量子ビットの状態を $\\alpha |0\\rangle + \\color{red}i\\beta |1\\rangle$ に変更してください (重ね合わせの $|1\\rangle$ 成分に相対位相 $i$ を追加します)。\n"
   ]
  },
  {
   "cell_type": "code",
   "execution_count": null,
   "metadata": {},
   "outputs": [],
   "source": [
    "%kata T105_PhaseFlip\n",
    "\n",
    "operation PhaseFlip (q : Qubit) : Unit is Adj+Ctl {\n",
    "    // ...\n",
    "}"
   ]
  },
  {
   "cell_type": "markdown",
   "metadata": {},
   "source": [
    "### タスク 1.6. 位相の変更\n",
    "\n",
    "**入力:**\n",
    "\n",
    "1. Double 型の弧度法表記の角度 α。\n",
    "2. 状態が $|\\psi\\rangle = \\beta |0\\rangle + \\gamma |1\\rangle$ の量子ビット。\n",
    "\n",
    "**ゴール:**  量子ビットの状態を次のように変更します:\n",
    "- 量子ビットの状態が $|0\\rangle$ の場合、状態は変更しません。\n",
    "- 量子ビットの状態が $|1\\rangle$ の場合、状態を $e^{i\\alpha} |1\\rangle$ に変更します。\n",
    "- 量子ビットが重ね合わせの場合、基底ベクトルに対する変換に従って状態を変更します: $\\beta |0\\rangle + \\color{red}{e^{i\\alpha}} \\gamma |1\\rangle$\n"
   ]
  },
  {
   "cell_type": "code",
   "execution_count": null,
   "metadata": {},
   "outputs": [],
   "source": [
    "%kata T106_PhaseChange\n",
    "\n",
    "operation PhaseChange (alpha : Double, q : Qubit) : Unit is Adj+Ctl {\n",
    "    // ...\n",
    "}"
   ]
  },
  {
   "cell_type": "markdown",
   "metadata": {},
   "source": [
    "### タスク 1.7. グローバル位相の変更\n",
    "**入力:** 状態が $|\\psi\\rangle = \\beta |0\\rangle + \\gamma |1\\rangle$ の 1 量子ビット。\n",
    "\n",
    "**ゴール**: 量子ビットの状態を $- \\beta |0\\rangle - \\gamma |1\\rangle$ に変更してください。\n",
    "\n",
    "> 注意: この変更はそれ自体では観察することができません - 単独の量子ビットに対してグローバル位相を持っているかどうか判断する手法はありません。\n",
    "> しかし、このオペレーションの制御版を使用することで、それが導くグローバル位相を観察することができます。\n",
    "> これはより複雑なタスクの一部として後の katas で使用します。\n",
    "\n",
    "<details>\n",
    "  <summary><b>ヒントが必要な場合はここをクリック</b></summary>\n",
    "回転ゲートのいずれかを適用することができるでしょうか? 一般的な数学定数を使うには Microsoft.Quantum.Math パッケージ内の関数を調べましょう。またこのとき open ディレクティブを使用してパッケージをインポートすることを思い出してください。\n",
    "</details>"
   ]
  },
  {
   "cell_type": "code",
   "execution_count": null,
   "metadata": {},
   "outputs": [],
   "source": [
    "%kata T107_GlobalPhaseChange\n",
    "\n",
    "operation GlobalPhaseChange (q : Qubit) : Unit is Adj+Ctl {\n",
    "    // ...\n",
    "}"
   ]
  },
  {
   "cell_type": "markdown",
   "metadata": {},
   "source": [
    "### タスク 1.8.  ベル状態の変更その 1\n",
    "\n",
    "**入力:** ベル状態にある 2 つの量子もつれ状態の量子ビット $|\\Phi^{+}\\rangle = \\frac{1}{\\sqrt{2}} \\big(|00\\rangle + |11\\rangle\\big)$。\n",
    "\n",
    "**ゴール:**  2 量子ビットの状態を $|\\Phi^{-}\\rangle = \\frac{1}{\\sqrt{2}} \\big(|00\\rangle - |11\\rangle\\big)$ に変更してください。\n"
   ]
  },
  {
   "cell_type": "code",
   "execution_count": null,
   "metadata": {},
   "outputs": [],
   "source": [
    "%kata T108_BellStateChange1\n",
    "\n",
    "operation BellStateChange1 (qs : Qubit[]) : Unit is Adj+Ctl {\n",
    "    // ...\n",
    "}"
   ]
  },
  {
   "cell_type": "markdown",
   "metadata": {},
   "source": [
    "### タスク 1.9. ベル状態の変更その 2\n",
    "\n",
    "**入力:** ベル状態にある 2 つの量子もつれ状態の量子ビット $|\\Phi^{+}\\rangle = \\frac{1}{\\sqrt{2}} \\big(|00\\rangle + |11\\rangle\\big)$。\n",
    "\n",
    "**ゴール:**  2 量子ビットの状態を $|\\Psi^{+}\\rangle = \\frac{1}{\\sqrt{2}} \\big(|01\\rangle + |10\\rangle\\big)$ に変更してください。"
   ]
  },
  {
   "cell_type": "code",
   "execution_count": null,
   "metadata": {},
   "outputs": [],
   "source": [
    "%kata T109_BellStateChange2\n",
    "\n",
    "operation BellStateChange2 (qs : Qubit[]) : Unit is Adj+Ctl {\n",
    "    // ...\n",
    "}"
   ]
  },
  {
   "cell_type": "markdown",
   "metadata": {},
   "source": [
    "### タスク 1.10. ベル状態の変更その 3\n",
    "\n",
    "**入力:** ベル状態にある 2 つの量子もつれ状態の量子ビット $|\\Phi^{+}\\rangle = \\frac{1}{\\sqrt{2}} \\big(|00\\rangle + |11\\rangle\\big)$。\n",
    "\n",
    "**ゴール:**  グローバル位相を付け加えずに 2 量子ビットの状態を $|\\Psi^{-}\\rangle = \\frac{1}{\\sqrt{2}} \\big(|01\\rangle - |10\\rangle\\big)$ に変更してください。\n",
    "\n",
    "<details>\n",
    "    <summary><b>ヒントが必要な場合はここをクリック</b></summary>\n",
    "類似の変換は最初の量子ビットにシングル <b>Y</b> ゲートを使用することでも実現することができます。しかし <b>Y</b> ゲートはグローバル位相も追加してしまい、この演習が意図するものとは異なります (詳細については<a href=\"../tutorials/Qubit/Qubit.ipynb#Relative-and-Global-Phase\">ここ</a>を参照してください)。\n",
    "\n",
    "<b>Y</b> ゲートとよく似た変換をしているが、グローバル位相を追加しない解決策を探してください、おそらく複数のゲートが必要となります。"
   ]
  },
  {
   "cell_type": "code",
   "execution_count": null,
   "metadata": {},
   "outputs": [],
   "source": [
    "%kata T110_BellStateChange3\n",
    "\n",
    "operation BellStateChange3 (qs : Qubit[]) : Unit is Adj+Ctl {\n",
    "    // ...\n",
    "}"
   ]
  },
  {
   "cell_type": "markdown",
   "metadata": {},
   "source": [
    "## パート II. 複数量子ビット ゲート\n",
    "\n",
    "> 以下のタスクでは、タスクの説明欄に記載された量子ビット状態の順番は配列内の量子ビットの順番と一致します (つまり、状態 $|10\\rangle$ は `qs[0]` が状態 $|1\\rangle$ に対応し、`qs[1]` が状態 $|0\\rangle$ に対応します)。\n",
    "> \n",
    "> また、テスト出力に表示される状態は (`DumpMachine` と同様に) リトル エンディアン表記である点にも注意してください、エンディアンについて復習するには [tutorial section](../tutorials/MultiQubitSystems/MultiQubitSystems.ipynb#Endianness) を参照してください。\n",
    "\n",
    "### Q# マテリアル\n",
    "\n",
    "* 制御版と随伴版のゲートの使用方法については [operations](https://docs.microsoft.com/quantum/user-guide/using-qsharp/operations-functions#controlled-and-adjoint-operations) にある Q# ドキュメントでカバーされています。"
   ]
  },
  {
   "cell_type": "markdown",
   "metadata": {},
   "source": [
    "### タスク 2.1. 2 量子ゲートその 1\n",
    "\n",
    "**入力:** 量子もつれ状態にない 2 つの量子ビット (長さが 2 の配列に格納されています)。\n",
    "1 つ目の量子ビットの状態は $|\\psi\\rangle = \\alpha |0\\rangle + \\beta |1\\rangle$、2 つ目の量子ビットの状態は $|0\\rangle$ (これは 2 量子ビット状態 $\\big(\\alpha |0\\rangle + \\beta |1\\rangle \\big) \\otimes |0\\rangle = \\alpha |00\\rangle + \\beta |10\\rangle$ として書くことができます)。\n",
    "\n",
    "\n",
    "**ゴール:**  2 量子ビットの状態を $\\alpha |00\\rangle + \\beta |11\\rangle$ に変更してください。\n",
    "\n",
    "> 1 つ目の量子ビットの始状態が $|0\\rangle$ または $|1\\rangle$ でない限り、\n",
    "> 結果の 2 量子ビットの状態は個々の量子ビットの状態のテンソル積として\n",
    "> 表すことができません。このように量子ビットは量子もつれの状態になります。"
   ]
  },
  {
   "cell_type": "code",
   "execution_count": null,
   "metadata": {},
   "outputs": [],
   "source": [
    "%kata T201_TwoQubitGate1\n",
    "\n",
    "operation TwoQubitGate1 (qs : Qubit[]) : Unit is Adj+Ctl {\n",
    "    // ...\n",
    "}"
   ]
  },
  {
   "cell_type": "markdown",
   "metadata": {},
   "source": [
    "### タスク 2.2. 2 量子ゲートその 2\n",
    "\n",
    "**入力:** 任意の 2 量子状態にある、量子もつれ状態にない 2 つの量子ビット (長さが 2 の配列に格納されています) $|+\\rangle \\otimes |+\\rangle = \\frac{1}{2} \\big( |00\\rangle + |01\\rangle + |10\\rangle \\color{blue}+ |11\\rangle \\big)$\n",
    "\n",
    "\n",
    "**ゴール:**  2 量子ビットの状態を $\\frac{1}{2} \\big( |00\\rangle + |01\\rangle + |10\\rangle \\color{red}- |11\\rangle \\big)$ に変更してください。\n",
    "\n",
    "> 始状態は 1 量子ビットのテンソル積で表すことができますが、\n",
    "> 結果の 2 量子ビットはそのように表すことができないことに注意してください。"
   ]
  },
  {
   "cell_type": "code",
   "execution_count": null,
   "metadata": {},
   "outputs": [],
   "source": [
    "%kata T202_TwoQubitGate2\n",
    "\n",
    "operation TwoQubitGate2 (qs : Qubit[]) : Unit is Adj+Ctl {\n",
    "    // ...\n",
    "}"
   ]
  },
  {
   "cell_type": "markdown",
   "metadata": {},
   "source": [
    "### タスク 2.3. 2 量子ゲートその 3\n",
    "\n",
    "**入力:** 任意の 2 量子状態にある、量子もつれ状態にない 2 つの量子ビット (長さが 2 の配列に格納されています) $\\alpha |00\\rangle + \\color{blue}\\beta |01\\rangle + \\color{blue}\\gamma |10\\rangle + \\delta |11\\rangle$\n",
    "\n",
    "\n",
    "**ゴール:**  2 量子ビットの状態を $\\alpha |00\\rangle + \\color{red}\\gamma |01\\rangle + \\color{red}\\beta |10\\rangle + \\delta |11\\rangle$ に変更してください。\n",
    "\n",
    "> このタスクは 1 つの固有ゲートを使用して解くことができます; 練習のため複数のパウリ ゲート (と場合によっては制御ゲート) を使用した答えを考えてください。"
   ]
  },
  {
   "cell_type": "code",
   "execution_count": null,
   "metadata": {},
   "outputs": [],
   "source": [
    "%kata T203_TwoQubitGate3\n",
    "\n",
    "operation TwoQubitGate3 (qs : Qubit[]) : Unit is Adj+Ctl {\n",
    "    // ...\n",
    "}"
   ]
  },
  {
   "cell_type": "markdown",
   "metadata": {},
   "source": [
    "### タスク 2.4. トフォリ ゲート\n",
    "\n",
    "**入力:** 任意の 3 量子ビットの状態を持つ 3 つの量子ビット (長さが 3 の配列に格納されています) \n",
    "$\\alpha |000\\rangle + \\beta |001\\rangle + \\gamma |010\\rangle + \\delta |011\\rangle + \\epsilon |100\\rangle + \\zeta|101\\rangle + \\color{blue}\\eta|110\\rangle + \\color{blue}\\theta|111\\rangle$.\n",
    "\n",
    "**ゴール:** 最初の 2 つの状態が $|11\\rangle$ の場合に 3 番目の量子ビットの状態を反転させます。 つまり 3 量子ビットの状態を $\\alpha |000\\rangle + \\beta |001\\rangle + \\gamma |010\\rangle + \\delta |011\\rangle + \\epsilon |100\\rangle + \\zeta|101\\rangle + \\color{red}\\theta|110\\rangle + \\color{red}\\eta|111\\rangle$ に変更します。"
   ]
  },
  {
   "cell_type": "code",
   "execution_count": null,
   "metadata": {},
   "outputs": [],
   "source": [
    "%kata T204_ToffoliGate\n",
    "\n",
    "operation ToffoliGate (qs : Qubit[]) : Unit is Adj+Ctl {\n",
    "    // ...\n",
    "}"
   ]
  },
  {
   "cell_type": "markdown",
   "metadata": {},
   "source": [
    "### タスク 2.5. フレドキン ゲート\n",
    "\n",
    "**入力:** 任意の 3 量子ビットの状態を持つ 3 つの量子ビット (長さが 3 の配列に格納されています)\n",
    "$\\alpha |000\\rangle + \\beta |001\\rangle + \\gamma |010\\rangle + \\delta |011\\rangle + \\epsilon |100\\rangle + \\color{blue}\\zeta|101\\rangle + \\color{blue}\\eta|110\\rangle + \\theta|111\\rangle$.\n",
    "\n",
    "**ゴール:** 最初の量子ビットの状態が $|1\\rangle$ の場合だけ、2 番目と 3 番目の量子ビットの状態を入れ替えます。つまり 3 量子ビットの状態を $\\alpha |000\\rangle + \\beta |001\\rangle + \\gamma |010\\rangle + \\delta |011\\rangle + \\epsilon |100\\rangle + \\color{red}\\eta|101\\rangle + \\color{red}\\zeta|110\\rangle + \\theta|111\\rangle$ に変更します。"
   ]
  },
  {
   "cell_type": "code",
   "execution_count": null,
   "metadata": {},
   "outputs": [],
   "source": [
    "%kata T205_FredkinGate\n",
    "\n",
    "operation FredkinGate (qs : Qubit[]) : Unit is Adj+Ctl {\n",
    "    // ...\n",
    "}"
   ]
  }
 ],
 "metadata": {
  "kernelspec": {
   "display_name": "Q#",
   "language": "qsharp",
   "name": "iqsharp"
  },
  "language_info": {
   "file_extension": ".qs",
   "mimetype": "text/x-qsharp",
   "name": "qsharp",
   "version": "0.12"
  }
 },
 "nbformat": 4,
 "nbformat_minor": 2
}
